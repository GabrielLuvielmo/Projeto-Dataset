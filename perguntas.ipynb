{
 "cells": [
  {
   "cell_type": "markdown",
   "metadata": {},
   "source": [
    "# Projeto Final - Perguntas\n",
    "\n",
    "1.   Quantos alunos existem (Quantidade de meninos e meninas)?\n",
    "2.   Quais os atributos dos alunos?\n",
    "3.   Qual o aluno e a aluna com a maior média de nota?\n",
    "4.   Quantos alunos/alunas tem um trabalho de meio período?\n",
    "5.   Qual aluno/aluna que mais faltou?\n",
    "6.   Qual aluno/aluna que estuda por mais horas durante semana?\n",
    "7.   Qual é a carreira que os alunos mais querem seguir?\n",
    "8.   Qual é a média de nota para alunos que participam de pelo menos uma atividade extracuricular?\n",
    "9.   Qual é a média de nota para alunos que trabalham e participam de pelo menos uma atividade extracuricular?\n",
    "10.  Qual a média da nota dos alunos que estudam mais de 10 horas por dia?\n"
   ]
  }
 ],
 "metadata": {
  "language_info": {
   "name": "python"
  }
 },
 "nbformat": 4,
 "nbformat_minor": 2
}
