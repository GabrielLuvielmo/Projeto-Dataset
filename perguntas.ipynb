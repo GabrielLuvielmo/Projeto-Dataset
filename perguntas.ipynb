//#Projeto Final: Perguntas

//1.   Quantos alunos existem (Quantidade de meninos e meninas)?
//2.   Quais os atributos dos alunos?
//3.   Qual o aluno e a aluna com a maior média de nota?
//4.   Quantos alunos/alunas tem um trabalho de meio período?
//5.   Qual aluno/aluna que mais faltou?
//6.   Qual aluno/aluna que estuda por mais horas durante semana?
//7.   Qual é a carreira que os alunos mais querem seguir?
//8.   Qual é a média de nota para alunos que participam de pelo menos uma atividade extracuricular?
//9.   Qual é a média de nota para alunos que trabalham e participam de pelo menos uma atividade extracuricular?
//10.  Qual a média da nota dos alunos que estudam mais de 10 horas por dia?
