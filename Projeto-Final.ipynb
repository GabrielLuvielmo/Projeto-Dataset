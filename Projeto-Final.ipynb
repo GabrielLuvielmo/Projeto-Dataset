{
 "cells": [
  {
   "cell_type": "markdown",
   "metadata": {},
   "source": [
    "# Main Code"
   ]
  },
  {
   "cell_type": "markdown",
   "metadata": {},
   "source": [
    "## Instalando Bibliotecas"
   ]
  },
  {
   "cell_type": "code",
   "execution_count": null,
   "metadata": {},
   "outputs": [],
   "source": [
    "pip install numpy"
   ]
  },
  {
   "cell_type": "code",
   "execution_count": null,
   "metadata": {},
   "outputs": [],
   "source": [
    "pip install pandas"
   ]
  },
  {
   "cell_type": "code",
   "execution_count": null,
   "metadata": {},
   "outputs": [],
   "source": [
    "pip install seaborn"
   ]
  },
  {
   "cell_type": "code",
   "execution_count": null,
   "metadata": {},
   "outputs": [],
   "source": [
    "pip install plotly"
   ]
  },
  {
   "cell_type": "markdown",
   "metadata": {},
   "source": [
    "## Importando Bibliotecas"
   ]
  },
  {
   "cell_type": "code",
   "execution_count": 34,
   "metadata": {},
   "outputs": [],
   "source": [
    "data_students = pd.read_csv('./student-scores.csv')"
   ]
  },
  {
   "cell_type": "code",
   "execution_count": 35,
   "metadata": {},
   "outputs": [],
   "source": [
    "# Gerando a Planilha e Exibindo ela\n",
    "data_students"
   ]
  },
  {
   "cell_type": "code",
   "execution_count": 47,
   "metadata": {},
   "outputs": [],
   "source": [
    "import numpy as np\n",
    "import pandas as pd\n",
    "import seaborn as sns\n",
    "import plotly.express as px"
   ]
  },
  {
   "cell_type": "code",
   "execution_count": 48,
   "metadata": {},
   "outputs": [],
   "source": [
    "np.set_printoptions(suppress=True)\n",
    "\n",
    "pd.set_option('display.float_format', '{.2f}'.format)"
   ]
  },
  {
   "cell_type": "markdown",
   "metadata": {},
   "source": [
    "## Perguntas respondidas"
   ]
  },
  {
   "cell_type": "markdown",
   "metadata": {},
   "source": [
    "### 1. Quantos alunos existem (Quantidade de meninos e meninas)?"
   ]
  },
  {
   "cell_type": "code",
   "execution_count": 53,
   "metadata": {},
   "outputs": [
    {
     "name": "stdout",
     "output_type": "stream",
     "text": [
      "Existem 2000 estudantes:\n",
      "998 estudantes do genero masculino.\n",
      "1002 estudantes do genero feminino.\n"
     ]
    }
   ],
   "source": [
    "# A coluna id pode ser usada para contar a quantidade total dos estudantes\n",
    "num_students_unique = data_students['id'].nunique()\n",
    "# Quantidade de numeros dos estudantes masculinos e femininos\n",
    "male = data_students.loc[data_students['gender'] == 'male', :]\n",
    "num_male = len(male)\n",
    "female = data_students.loc[data_students['gender'] == 'female', :]\n",
    "num_female = len(female)\n",
    "# Resultado numero de estudantes no total\n",
    "print(f'Existem {num_students_unique} estudantes:')\n",
    "\n",
    "print(f'{num_male} estudantes do genero masculino.')\n",
    "print(f'{num_female} estudantes do genero feminino.')"
   ]
  },
  {
   "cell_type": "markdown",
   "metadata": {},
   "source": [
    "### 2. Quais os atributos dos alunos?"
   ]
  },
  {
   "cell_type": "code",
   "execution_count": 51,
   "metadata": {},
   "outputs": [
    {
     "name": "stdout",
     "output_type": "stream",
     "text": [
      "['first_name', 'last_name', 'email', 'gender', 'part_time_job', 'absence_days', 'extracurricular_activities', 'weekly_self_study_hours', 'career_aspiration', 'math_score', 'history_score', 'physics_score', 'chemistry_score', 'biology_score', 'english_score', 'geography_score']\n"
     ]
    }
   ],
   "source": [
    "# Atributos dos alunos excluindo a coluna de id\n",
    "student_atributes = data_students.drop( ['id'], axis=1 )\n",
    "print( student_atributes.columns.tolist() )"
   ]
  },
  {
   "cell_type": "markdown",
   "metadata": {},
   "source": [
    "### 3. Qual o estudante com a maior média de nota?"
   ]
  },
  {
   "cell_type": "code",
   "execution_count": 54,
   "metadata": {},
   "outputs": [
    {
     "name": "stdout",
     "output_type": "stream",
     "text": [
      "O Estudante com maior média é: Lisa Mitchell (ID: 797) com média 96.14\n"
     ]
    }
   ],
   "source": [
    "# Lista das colunas de nota\n",
    "score_columns = ['math_score', 'history_score', 'physics_score', 'chemistry_score', 'biology_score', 'english_score', 'geography_score']\n",
    "\n",
    "# Calcula a média das notas\n",
    "data_students['average_score'] = data_students[score_columns].mean(axis=1)\n",
    "\n",
    "# Encontra o aluno com a maior média\n",
    "top_student = data_students.sort_values('average_score', ascending=False).iloc[0]\n",
    "\n",
    "# Combina o nome completo\n",
    "full_name = f\"{top_student['first_name']} {top_student['last_name']}\"\n",
    "\n",
    "# Exibe o nome completo, ID e média\n",
    "print('O Estudante com maior média é: {} (ID: {}) com média {:.2f}'.format(\n",
    "    full_name, top_student['id'], top_student['average_score']\n",
    "))"
   ]
  },
  {
   "cell_type": "markdown",
   "metadata": {},
   "source": [
    "### 4. Quantos estudantes tem um trabalho de meio período?"
   ]
  },
  {
   "cell_type": "code",
   "execution_count": 50,
   "metadata": {},
   "outputs": [
    {
     "name": "stdout",
     "output_type": "stream",
     "text": [
      "316 estudantes tem um trabalho de meio período\n"
     ]
    }
   ],
   "source": [
    "students_job = data_students.loc[data_students['part_time_job'] == True]\n",
    "num_student_job = len(students_job)\n",
    "print(f'{num_student_job} estudantes tem um trabalho de meio período')"
   ]
  },
  {
   "cell_type": "markdown",
   "metadata": {},
   "source": [
    "### 5. Qual aluno/aluna que mais faltou?\n"
   ]
  },
  {
   "cell_type": "code",
   "execution_count": 49,
   "metadata": {},
   "outputs": [
    {
     "name": "stdout",
     "output_type": "stream",
     "text": [
      "Estudantes com mais faltas (10 faltas):\n",
      "- Pamela Jackson (ID: 14)\n",
      "- Raymond Shea (ID: 70)\n",
      "- Louis Edwards (ID: 73)\n",
      "- Stephen Rodriguez (ID: 152)\n",
      "- Amanda Murphy (ID: 175)\n",
      "- Anthony Martinez (ID: 274)\n",
      "- Heather Faulkner (ID: 302)\n",
      "- Gina Powell (ID: 305)\n",
      "- David Rice (ID: 346)\n",
      "- Francis Nelson (ID: 366)\n",
      "- William Ballard (ID: 374)\n",
      "- Brenda Mooney (ID: 488)\n",
      "- Angela Allen (ID: 489)\n",
      "- Thomas Clark (ID: 535)\n",
      "- Holly Sexton (ID: 547)\n",
      "- Paul Shaffer (ID: 552)\n",
      "- John Pacheco (ID: 565)\n",
      "- Sherry Brown (ID: 566)\n",
      "- Eric Patton (ID: 594)\n",
      "- Joshua Kelly (ID: 617)\n",
      "- Maria Campos (ID: 639)\n",
      "- Samuel Anderson (ID: 662)\n",
      "- Michelle Martinez (ID: 673)\n",
      "- Ross Esparza (ID: 693)\n",
      "- James Carter (ID: 710)\n",
      "- Leah Brown (ID: 714)\n",
      "- Jose Jackson (ID: 732)\n",
      "- Thomas Cruz (ID: 740)\n",
      "- Ashley Gutierrez (ID: 749)\n",
      "- Molly Jackson (ID: 809)\n",
      "- Brittany Collier (ID: 833)\n",
      "- Stephanie Bush (ID: 845)\n",
      "- Keith Tanner (ID: 846)\n",
      "- William Hernandez (ID: 854)\n",
      "- Cody Smith (ID: 875)\n",
      "- Sandra Davis (ID: 892)\n",
      "- Heidi Adams (ID: 915)\n",
      "- David Perez (ID: 925)\n",
      "- Maria Malone (ID: 941)\n",
      "- Connor Olson (ID: 958)\n",
      "- Brandon Smith (ID: 1001)\n",
      "- Nicole Williams (ID: 1002)\n",
      "- Rachel Frye (ID: 1003)\n",
      "- Jackson Smith (ID: 1015)\n",
      "- Michael Carr (ID: 1021)\n",
      "- Kenneth Mendez (ID: 1067)\n",
      "- John Wilson (ID: 1092)\n",
      "- John Klein (ID: 1104)\n",
      "- Samantha Phillips (ID: 1117)\n",
      "- David Hartman (ID: 1127)\n",
      "- Jennifer Beck (ID: 1214)\n",
      "- Dawn Flores (ID: 1239)\n",
      "- Susan Wall (ID: 1250)\n",
      "- Shawn Cameron (ID: 1275)\n",
      "- Maureen Norman (ID: 1323)\n",
      "- Christina Martinez (ID: 1325)\n",
      "- Anthony Shah (ID: 1330)\n",
      "- Rachel Williams (ID: 1349)\n",
      "- Sean Malone (ID: 1350)\n",
      "- Lauren Arias (ID: 1357)\n",
      "- Stephanie Jordan (ID: 1364)\n",
      "- James Tate (ID: 1373)\n",
      "- Connor Mitchell (ID: 1405)\n",
      "- Christina Ramirez (ID: 1415)\n",
      "- Jonathan Mckay (ID: 1450)\n",
      "- Joshua Williams (ID: 1477)\n",
      "- Jessica Nolan (ID: 1480)\n",
      "- Lisa Franco (ID: 1502)\n",
      "- John Powell (ID: 1522)\n",
      "- Kayla Bailey (ID: 1528)\n",
      "- Brian Garcia (ID: 1536)\n",
      "- Carlos Long (ID: 1556)\n",
      "- Cynthia Weeks (ID: 1599)\n",
      "- Eric Matthews (ID: 1604)\n",
      "- Tamara Bennett (ID: 1605)\n",
      "- Julie Floyd (ID: 1691)\n",
      "- Brenda Morales (ID: 1712)\n",
      "- Kimberly Shaw (ID: 1722)\n",
      "- James Hernandez (ID: 1765)\n",
      "- Bryan Dorsey (ID: 1777)\n",
      "- Luis Little (ID: 1824)\n",
      "- Cynthia Hodges (ID: 1840)\n",
      "- Kimberly Haley (ID: 1854)\n",
      "- Catherine Coffey (ID: 1888)\n",
      "- Bethany Thomas (ID: 1913)\n",
      "- Dennis Richardson (ID: 1959)\n",
      "- Kristin Garcia (ID: 1978)\n",
      "- Brittany Compton (ID: 1999)\n"
     ]
    }
   ],
   "source": [
    "# Descobre o número máximo de faltas\n",
    "max_absences = data_students['absence_days'].max()\n",
    "\n",
    "# Filtra todos os alunos com esse número de faltas\n",
    "top_absent_students = data_students[data_students['absence_days'] == max_absences]\n",
    "\n",
    "# Exibe todos os estudantes com mais faltas\n",
    "print(f\"Estudantes com mais faltas ({max_absences} faltas):\")\n",
    "for _, row in top_absent_students.iterrows():\n",
    "    full_name = f\"{row['first_name']} {row['last_name']}\"\n",
    "    print(f\"- {full_name} (ID: {row['id']})\")\n"
   ]
  },
  {
   "cell_type": "markdown",
   "metadata": {},
   "source": [
    "### 6. Qual aluno/aluna que estuda por mais horas durante semana?"
   ]
  }
 ],
 "metadata": {
  "kernelspec": {
   "display_name": "Python 3",
   "language": "python",
   "name": "python3"
  },
  "language_info": {
   "codemirror_mode": {
    "name": "ipython",
    "version": 3
   },
   "file_extension": ".py",
   "mimetype": "text/x-python",
   "name": "python",
   "nbconvert_exporter": "python",
   "pygments_lexer": "ipython3",
   "version": "3.11.9"
  }
 },
 "nbformat": 4,
 "nbformat_minor": 2
}
