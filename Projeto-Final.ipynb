{
 "cells": [
  {
   "cell_type": "markdown",
   "metadata": {},
   "source": [
    "# Main Code"
   ]
  },
  {
   "cell_type": "markdown",
   "metadata": {},
   "source": [
    "## Instalando Bibliotecas"
   ]
  },
  {
   "cell_type": "code",
   "execution_count": 1,
   "metadata": {},
   "outputs": [
    {
     "name": "stdout",
     "output_type": "stream",
     "text": [
      "Defaulting to user installation because normal site-packages is not writeable\n",
      "Collecting numpy\n",
      "  Downloading numpy-2.3.0-cp313-cp313-win_amd64.whl.metadata (60 kB)\n",
      "Downloading numpy-2.3.0-cp313-cp313-win_amd64.whl (12.7 MB)\n",
      "   ---------------------------------------- 0.0/12.7 MB ? eta -:--:--\n",
      "   ------------ --------------------------- 3.9/12.7 MB 21.2 MB/s eta 0:00:01\n",
      "   ---------------------------------- ----- 11.0/12.7 MB 27.7 MB/s eta 0:00:01\n",
      "   ---------------------------------------- 12.7/12.7 MB 27.4 MB/s eta 0:00:00\n",
      "Installing collected packages: numpy\n",
      "Successfully installed numpy-2.3.0\n",
      "Note: you may need to restart the kernel to use updated packages.\n"
     ]
    },
    {
     "name": "stderr",
     "output_type": "stream",
     "text": [
      "\n",
      "[notice] A new release of pip is available: 24.3.1 -> 25.1.1\n",
      "[notice] To update, run: python.exe -m pip install --upgrade pip\n"
     ]
    }
   ],
   "source": [
    "pip install numpy"
   ]
  },
  {
   "cell_type": "code",
   "execution_count": 2,
   "metadata": {},
   "outputs": [
    {
     "name": "stdout",
     "output_type": "stream",
     "text": [
      "Defaulting to user installation because normal site-packages is not writeable\n",
      "Collecting pandas\n",
      "  Downloading pandas-2.3.0-cp313-cp313-win_amd64.whl.metadata (19 kB)\n",
      "Requirement already satisfied: numpy>=1.26.0 in c:\\users\\victo\\appdata\\roaming\\python\\python313\\site-packages (from pandas) (2.3.0)\n",
      "Requirement already satisfied: python-dateutil>=2.8.2 in c:\\users\\victo\\appdata\\roaming\\python\\python313\\site-packages (from pandas) (2.9.0.post0)\n",
      "Collecting pytz>=2020.1 (from pandas)\n",
      "  Downloading pytz-2025.2-py2.py3-none-any.whl.metadata (22 kB)\n",
      "Collecting tzdata>=2022.7 (from pandas)\n",
      "  Downloading tzdata-2025.2-py2.py3-none-any.whl.metadata (1.4 kB)\n",
      "Requirement already satisfied: six>=1.5 in c:\\users\\victo\\appdata\\roaming\\python\\python313\\site-packages (from python-dateutil>=2.8.2->pandas) (1.17.0)\n",
      "Downloading pandas-2.3.0-cp313-cp313-win_amd64.whl (11.0 MB)\n",
      "   ---------------------------------------- 0.0/11.0 MB ? eta -:--:--\n",
      "   ------------- -------------------------- 3.7/11.0 MB 22.4 MB/s eta 0:00:01\n",
      "   ------------------------ --------------- 6.8/11.0 MB 18.6 MB/s eta 0:00:01\n",
      "   ---------------------------------------- 11.0/11.0 MB 22.2 MB/s eta 0:00:00\n",
      "Downloading pytz-2025.2-py2.py3-none-any.whl (509 kB)\n",
      "Downloading tzdata-2025.2-py2.py3-none-any.whl (347 kB)\n",
      "Installing collected packages: pytz, tzdata, pandas\n",
      "Successfully installed pandas-2.3.0 pytz-2025.2 tzdata-2025.2\n",
      "Note: you may need to restart the kernel to use updated packages.\n"
     ]
    },
    {
     "name": "stderr",
     "output_type": "stream",
     "text": [
      "\n",
      "[notice] A new release of pip is available: 24.3.1 -> 25.1.1\n",
      "[notice] To update, run: python.exe -m pip install --upgrade pip\n"
     ]
    }
   ],
   "source": [
    "pip install pandas"
   ]
  },
  {
   "cell_type": "code",
   "execution_count": 3,
   "metadata": {},
   "outputs": [
    {
     "name": "stdout",
     "output_type": "stream",
     "text": [
      "Defaulting to user installation because normal site-packages is not writeable\n",
      "Collecting seaborn\n",
      "  Using cached seaborn-0.13.2-py3-none-any.whl.metadata (5.4 kB)\n",
      "Requirement already satisfied: numpy!=1.24.0,>=1.20 in c:\\users\\victo\\appdata\\roaming\\python\\python313\\site-packages (from seaborn) (2.3.0)\n",
      "Requirement already satisfied: pandas>=1.2 in c:\\users\\victo\\appdata\\roaming\\python\\python313\\site-packages (from seaborn) (2.3.0)\n",
      "Collecting matplotlib!=3.6.1,>=3.4 (from seaborn)\n",
      "  Downloading matplotlib-3.10.3-cp313-cp313-win_amd64.whl.metadata (11 kB)\n",
      "Collecting contourpy>=1.0.1 (from matplotlib!=3.6.1,>=3.4->seaborn)\n",
      "  Downloading contourpy-1.3.2-cp313-cp313-win_amd64.whl.metadata (5.5 kB)\n",
      "Collecting cycler>=0.10 (from matplotlib!=3.6.1,>=3.4->seaborn)\n",
      "  Using cached cycler-0.12.1-py3-none-any.whl.metadata (3.8 kB)\n",
      "Collecting fonttools>=4.22.0 (from matplotlib!=3.6.1,>=3.4->seaborn)\n",
      "  Downloading fonttools-4.58.3-cp313-cp313-win_amd64.whl.metadata (108 kB)\n",
      "Collecting kiwisolver>=1.3.1 (from matplotlib!=3.6.1,>=3.4->seaborn)\n",
      "  Using cached kiwisolver-1.4.8-cp313-cp313-win_amd64.whl.metadata (6.3 kB)\n",
      "Requirement already satisfied: packaging>=20.0 in c:\\users\\victo\\appdata\\roaming\\python\\python313\\site-packages (from matplotlib!=3.6.1,>=3.4->seaborn) (25.0)\n",
      "Collecting pillow>=8 (from matplotlib!=3.6.1,>=3.4->seaborn)\n",
      "  Downloading pillow-11.2.1-cp313-cp313-win_amd64.whl.metadata (9.1 kB)\n",
      "Collecting pyparsing>=2.3.1 (from matplotlib!=3.6.1,>=3.4->seaborn)\n",
      "  Downloading pyparsing-3.2.3-py3-none-any.whl.metadata (5.0 kB)\n",
      "Requirement already satisfied: python-dateutil>=2.7 in c:\\users\\victo\\appdata\\roaming\\python\\python313\\site-packages (from matplotlib!=3.6.1,>=3.4->seaborn) (2.9.0.post0)\n",
      "Requirement already satisfied: pytz>=2020.1 in c:\\users\\victo\\appdata\\roaming\\python\\python313\\site-packages (from pandas>=1.2->seaborn) (2025.2)\n",
      "Requirement already satisfied: tzdata>=2022.7 in c:\\users\\victo\\appdata\\roaming\\python\\python313\\site-packages (from pandas>=1.2->seaborn) (2025.2)\n",
      "Requirement already satisfied: six>=1.5 in c:\\users\\victo\\appdata\\roaming\\python\\python313\\site-packages (from python-dateutil>=2.7->matplotlib!=3.6.1,>=3.4->seaborn) (1.17.0)\n",
      "Using cached seaborn-0.13.2-py3-none-any.whl (294 kB)\n",
      "Downloading matplotlib-3.10.3-cp313-cp313-win_amd64.whl (8.1 MB)\n",
      "   ---------------------------------------- 0.0/8.1 MB ? eta -:--:--\n",
      "   ------------------- -------------------- 3.9/8.1 MB 23.4 MB/s eta 0:00:01\n",
      "   ---------------------------------------- 8.1/8.1 MB 21.9 MB/s eta 0:00:00\n",
      "Downloading contourpy-1.3.2-cp313-cp313-win_amd64.whl (223 kB)\n",
      "Using cached cycler-0.12.1-py3-none-any.whl (8.3 kB)\n",
      "Downloading fonttools-4.58.3-cp313-cp313-win_amd64.whl (2.2 MB)\n",
      "   ---------------------------------------- 0.0/2.2 MB ? eta -:--:--\n",
      "   ---------------------------------------- 2.2/2.2 MB 37.7 MB/s eta 0:00:00\n",
      "Using cached kiwisolver-1.4.8-cp313-cp313-win_amd64.whl (71 kB)\n",
      "Downloading pillow-11.2.1-cp313-cp313-win_amd64.whl (2.7 MB)\n",
      "   ---------------------------------------- 0.0/2.7 MB ? eta -:--:--\n",
      "   ---------------------------------------- 2.7/2.7 MB 29.3 MB/s eta 0:00:00\n",
      "Downloading pyparsing-3.2.3-py3-none-any.whl (111 kB)\n",
      "Installing collected packages: pyparsing, pillow, kiwisolver, fonttools, cycler, contourpy, matplotlib, seaborn\n",
      "Successfully installed contourpy-1.3.2 cycler-0.12.1 fonttools-4.58.3 kiwisolver-1.4.8 matplotlib-3.10.3 pillow-11.2.1 pyparsing-3.2.3 seaborn-0.13.2\n",
      "Note: you may need to restart the kernel to use updated packages.\n"
     ]
    },
    {
     "name": "stderr",
     "output_type": "stream",
     "text": [
      "\n",
      "[notice] A new release of pip is available: 24.3.1 -> 25.1.1\n",
      "[notice] To update, run: python.exe -m pip install --upgrade pip\n"
     ]
    }
   ],
   "source": [
    "pip install seaborn"
   ]
  },
  {
   "cell_type": "code",
   "execution_count": 5,
   "metadata": {},
   "outputs": [
    {
     "name": "stdout",
     "output_type": "stream",
     "text": [
      "Defaulting to user installation because normal site-packages is not writeable\n",
      "Requirement already satisfied: plotly in c:\\users\\victo\\appdata\\roaming\\python\\python313\\site-packages (6.1.2)\n",
      "Requirement already satisfied: narwhals>=1.15.1 in c:\\users\\victo\\appdata\\roaming\\python\\python313\\site-packages (from plotly) (1.42.1)\n",
      "Requirement already satisfied: packaging in c:\\users\\victo\\appdata\\roaming\\python\\python313\\site-packages (from plotly) (25.0)\n",
      "Note: you may need to restart the kernel to use updated packages.\n"
     ]
    },
    {
     "name": "stderr",
     "output_type": "stream",
     "text": [
      "\n",
      "[notice] A new release of pip is available: 24.3.1 -> 25.1.1\n",
      "[notice] To update, run: python.exe -m pip install --upgrade pip\n"
     ]
    }
   ],
   "source": [
    "pip install plotly"
   ]
  },
  {
   "cell_type": "markdown",
   "metadata": {},
   "source": [
    "## Importando Bibliotecas"
   ]
  },
  {
   "cell_type": "code",
   "execution_count": 7,
   "metadata": {},
   "outputs": [],
   "source": [
    "import numpy as np\n",
    "import pandas as pd\n",
    "import seaborn as sns\n",
    "import plotly.express as px"
   ]
  },
  {
   "cell_type": "code",
   "execution_count": 8,
   "metadata": {},
   "outputs": [],
   "source": [
    "data_students = pd.read_csv('./student-scores.csv')"
   ]
  },
  {
   "cell_type": "code",
   "execution_count": 9,
   "metadata": {},
   "outputs": [
    {
     "data": {
      "text/html": [
       "<div>\n",
       "<style scoped>\n",
       "    .dataframe tbody tr th:only-of-type {\n",
       "        vertical-align: middle;\n",
       "    }\n",
       "\n",
       "    .dataframe tbody tr th {\n",
       "        vertical-align: top;\n",
       "    }\n",
       "\n",
       "    .dataframe thead th {\n",
       "        text-align: right;\n",
       "    }\n",
       "</style>\n",
       "<table border=\"1\" class=\"dataframe\">\n",
       "  <thead>\n",
       "    <tr style=\"text-align: right;\">\n",
       "      <th></th>\n",
       "      <th>id</th>\n",
       "      <th>first_name</th>\n",
       "      <th>last_name</th>\n",
       "      <th>email</th>\n",
       "      <th>gender</th>\n",
       "      <th>part_time_job</th>\n",
       "      <th>absence_days</th>\n",
       "      <th>extracurricular_activities</th>\n",
       "      <th>weekly_self_study_hours</th>\n",
       "      <th>career_aspiration</th>\n",
       "      <th>math_score</th>\n",
       "      <th>history_score</th>\n",
       "      <th>physics_score</th>\n",
       "      <th>chemistry_score</th>\n",
       "      <th>biology_score</th>\n",
       "      <th>english_score</th>\n",
       "      <th>geography_score</th>\n",
       "    </tr>\n",
       "  </thead>\n",
       "  <tbody>\n",
       "    <tr>\n",
       "      <th>0</th>\n",
       "      <td>1</td>\n",
       "      <td>Paul</td>\n",
       "      <td>Casey</td>\n",
       "      <td>paul.casey.1@gslingacademy.com</td>\n",
       "      <td>male</td>\n",
       "      <td>False</td>\n",
       "      <td>3</td>\n",
       "      <td>False</td>\n",
       "      <td>27</td>\n",
       "      <td>Lawyer</td>\n",
       "      <td>73</td>\n",
       "      <td>81</td>\n",
       "      <td>93</td>\n",
       "      <td>97</td>\n",
       "      <td>63</td>\n",
       "      <td>80</td>\n",
       "      <td>87</td>\n",
       "    </tr>\n",
       "    <tr>\n",
       "      <th>1</th>\n",
       "      <td>2</td>\n",
       "      <td>Danielle</td>\n",
       "      <td>Sandoval</td>\n",
       "      <td>danielle.sandoval.2@gslingacademy.com</td>\n",
       "      <td>female</td>\n",
       "      <td>False</td>\n",
       "      <td>2</td>\n",
       "      <td>False</td>\n",
       "      <td>47</td>\n",
       "      <td>Doctor</td>\n",
       "      <td>90</td>\n",
       "      <td>86</td>\n",
       "      <td>96</td>\n",
       "      <td>100</td>\n",
       "      <td>90</td>\n",
       "      <td>88</td>\n",
       "      <td>90</td>\n",
       "    </tr>\n",
       "    <tr>\n",
       "      <th>2</th>\n",
       "      <td>3</td>\n",
       "      <td>Tina</td>\n",
       "      <td>Andrews</td>\n",
       "      <td>tina.andrews.3@gslingacademy.com</td>\n",
       "      <td>female</td>\n",
       "      <td>False</td>\n",
       "      <td>9</td>\n",
       "      <td>True</td>\n",
       "      <td>13</td>\n",
       "      <td>Government Officer</td>\n",
       "      <td>81</td>\n",
       "      <td>97</td>\n",
       "      <td>95</td>\n",
       "      <td>96</td>\n",
       "      <td>65</td>\n",
       "      <td>77</td>\n",
       "      <td>94</td>\n",
       "    </tr>\n",
       "    <tr>\n",
       "      <th>3</th>\n",
       "      <td>4</td>\n",
       "      <td>Tara</td>\n",
       "      <td>Clark</td>\n",
       "      <td>tara.clark.4@gslingacademy.com</td>\n",
       "      <td>female</td>\n",
       "      <td>False</td>\n",
       "      <td>5</td>\n",
       "      <td>False</td>\n",
       "      <td>3</td>\n",
       "      <td>Artist</td>\n",
       "      <td>71</td>\n",
       "      <td>74</td>\n",
       "      <td>88</td>\n",
       "      <td>80</td>\n",
       "      <td>89</td>\n",
       "      <td>63</td>\n",
       "      <td>86</td>\n",
       "    </tr>\n",
       "    <tr>\n",
       "      <th>4</th>\n",
       "      <td>5</td>\n",
       "      <td>Anthony</td>\n",
       "      <td>Campos</td>\n",
       "      <td>anthony.campos.5@gslingacademy.com</td>\n",
       "      <td>male</td>\n",
       "      <td>False</td>\n",
       "      <td>5</td>\n",
       "      <td>False</td>\n",
       "      <td>10</td>\n",
       "      <td>Unknown</td>\n",
       "      <td>84</td>\n",
       "      <td>77</td>\n",
       "      <td>65</td>\n",
       "      <td>65</td>\n",
       "      <td>80</td>\n",
       "      <td>74</td>\n",
       "      <td>76</td>\n",
       "    </tr>\n",
       "    <tr>\n",
       "      <th>...</th>\n",
       "      <td>...</td>\n",
       "      <td>...</td>\n",
       "      <td>...</td>\n",
       "      <td>...</td>\n",
       "      <td>...</td>\n",
       "      <td>...</td>\n",
       "      <td>...</td>\n",
       "      <td>...</td>\n",
       "      <td>...</td>\n",
       "      <td>...</td>\n",
       "      <td>...</td>\n",
       "      <td>...</td>\n",
       "      <td>...</td>\n",
       "      <td>...</td>\n",
       "      <td>...</td>\n",
       "      <td>...</td>\n",
       "      <td>...</td>\n",
       "    </tr>\n",
       "    <tr>\n",
       "      <th>1995</th>\n",
       "      <td>1996</td>\n",
       "      <td>Alan</td>\n",
       "      <td>Reynolds</td>\n",
       "      <td>alan.reynolds.1996@gslingacademy.com</td>\n",
       "      <td>male</td>\n",
       "      <td>False</td>\n",
       "      <td>2</td>\n",
       "      <td>False</td>\n",
       "      <td>30</td>\n",
       "      <td>Construction Engineer</td>\n",
       "      <td>83</td>\n",
       "      <td>77</td>\n",
       "      <td>84</td>\n",
       "      <td>73</td>\n",
       "      <td>75</td>\n",
       "      <td>84</td>\n",
       "      <td>82</td>\n",
       "    </tr>\n",
       "    <tr>\n",
       "      <th>1996</th>\n",
       "      <td>1997</td>\n",
       "      <td>Thomas</td>\n",
       "      <td>Gilbert</td>\n",
       "      <td>thomas.gilbert.1997@gslingacademy.com</td>\n",
       "      <td>male</td>\n",
       "      <td>False</td>\n",
       "      <td>2</td>\n",
       "      <td>False</td>\n",
       "      <td>20</td>\n",
       "      <td>Software Engineer</td>\n",
       "      <td>89</td>\n",
       "      <td>65</td>\n",
       "      <td>73</td>\n",
       "      <td>80</td>\n",
       "      <td>87</td>\n",
       "      <td>67</td>\n",
       "      <td>73</td>\n",
       "    </tr>\n",
       "    <tr>\n",
       "      <th>1997</th>\n",
       "      <td>1998</td>\n",
       "      <td>Madison</td>\n",
       "      <td>Cross</td>\n",
       "      <td>madison.cross.1998@gslingacademy.com</td>\n",
       "      <td>female</td>\n",
       "      <td>False</td>\n",
       "      <td>5</td>\n",
       "      <td>False</td>\n",
       "      <td>14</td>\n",
       "      <td>Software Engineer</td>\n",
       "      <td>97</td>\n",
       "      <td>85</td>\n",
       "      <td>63</td>\n",
       "      <td>93</td>\n",
       "      <td>68</td>\n",
       "      <td>94</td>\n",
       "      <td>78</td>\n",
       "    </tr>\n",
       "    <tr>\n",
       "      <th>1998</th>\n",
       "      <td>1999</td>\n",
       "      <td>Brittany</td>\n",
       "      <td>Compton</td>\n",
       "      <td>brittany.compton.1999@gslingacademy.com</td>\n",
       "      <td>female</td>\n",
       "      <td>True</td>\n",
       "      <td>10</td>\n",
       "      <td>True</td>\n",
       "      <td>5</td>\n",
       "      <td>Business Owner</td>\n",
       "      <td>51</td>\n",
       "      <td>96</td>\n",
       "      <td>72</td>\n",
       "      <td>89</td>\n",
       "      <td>95</td>\n",
       "      <td>88</td>\n",
       "      <td>75</td>\n",
       "    </tr>\n",
       "    <tr>\n",
       "      <th>1999</th>\n",
       "      <td>2000</td>\n",
       "      <td>Natalie</td>\n",
       "      <td>Smith</td>\n",
       "      <td>natalie.smith.2000@gslingacademy.com</td>\n",
       "      <td>female</td>\n",
       "      <td>False</td>\n",
       "      <td>5</td>\n",
       "      <td>False</td>\n",
       "      <td>27</td>\n",
       "      <td>Accountant</td>\n",
       "      <td>82</td>\n",
       "      <td>99</td>\n",
       "      <td>91</td>\n",
       "      <td>69</td>\n",
       "      <td>83</td>\n",
       "      <td>93</td>\n",
       "      <td>100</td>\n",
       "    </tr>\n",
       "  </tbody>\n",
       "</table>\n",
       "<p>2000 rows × 17 columns</p>\n",
       "</div>"
      ],
      "text/plain": [
       "        id first_name last_name                                    email  \\\n",
       "0        1       Paul     Casey           paul.casey.1@gslingacademy.com   \n",
       "1        2   Danielle  Sandoval    danielle.sandoval.2@gslingacademy.com   \n",
       "2        3       Tina   Andrews         tina.andrews.3@gslingacademy.com   \n",
       "3        4       Tara     Clark           tara.clark.4@gslingacademy.com   \n",
       "4        5    Anthony    Campos       anthony.campos.5@gslingacademy.com   \n",
       "...    ...        ...       ...                                      ...   \n",
       "1995  1996       Alan  Reynolds     alan.reynolds.1996@gslingacademy.com   \n",
       "1996  1997     Thomas   Gilbert    thomas.gilbert.1997@gslingacademy.com   \n",
       "1997  1998    Madison     Cross     madison.cross.1998@gslingacademy.com   \n",
       "1998  1999   Brittany   Compton  brittany.compton.1999@gslingacademy.com   \n",
       "1999  2000    Natalie     Smith     natalie.smith.2000@gslingacademy.com   \n",
       "\n",
       "      gender  part_time_job  absence_days  extracurricular_activities  \\\n",
       "0       male          False             3                       False   \n",
       "1     female          False             2                       False   \n",
       "2     female          False             9                        True   \n",
       "3     female          False             5                       False   \n",
       "4       male          False             5                       False   \n",
       "...      ...            ...           ...                         ...   \n",
       "1995    male          False             2                       False   \n",
       "1996    male          False             2                       False   \n",
       "1997  female          False             5                       False   \n",
       "1998  female           True            10                        True   \n",
       "1999  female          False             5                       False   \n",
       "\n",
       "      weekly_self_study_hours      career_aspiration  math_score  \\\n",
       "0                          27                 Lawyer          73   \n",
       "1                          47                 Doctor          90   \n",
       "2                          13     Government Officer          81   \n",
       "3                           3                 Artist          71   \n",
       "4                          10                Unknown          84   \n",
       "...                       ...                    ...         ...   \n",
       "1995                       30  Construction Engineer          83   \n",
       "1996                       20      Software Engineer          89   \n",
       "1997                       14      Software Engineer          97   \n",
       "1998                        5         Business Owner          51   \n",
       "1999                       27             Accountant          82   \n",
       "\n",
       "      history_score  physics_score  chemistry_score  biology_score  \\\n",
       "0                81             93               97             63   \n",
       "1                86             96              100             90   \n",
       "2                97             95               96             65   \n",
       "3                74             88               80             89   \n",
       "4                77             65               65             80   \n",
       "...             ...            ...              ...            ...   \n",
       "1995             77             84               73             75   \n",
       "1996             65             73               80             87   \n",
       "1997             85             63               93             68   \n",
       "1998             96             72               89             95   \n",
       "1999             99             91               69             83   \n",
       "\n",
       "      english_score  geography_score  \n",
       "0                80               87  \n",
       "1                88               90  \n",
       "2                77               94  \n",
       "3                63               86  \n",
       "4                74               76  \n",
       "...             ...              ...  \n",
       "1995             84               82  \n",
       "1996             67               73  \n",
       "1997             94               78  \n",
       "1998             88               75  \n",
       "1999             93              100  \n",
       "\n",
       "[2000 rows x 17 columns]"
      ]
     },
     "execution_count": 9,
     "metadata": {},
     "output_type": "execute_result"
    }
   ],
   "source": [
    "# Gerando a Planilha e Exibindo ela\n",
    "data_students"
   ]
  },
  {
   "cell_type": "code",
   "execution_count": 48,
   "metadata": {},
   "outputs": [],
   "source": [
    "np.set_printoptions(suppress=True)\n",
    "\n",
    "pd.set_option('display.float_format', '{.2f}'.format)"
   ]
  },
  {
   "cell_type": "markdown",
   "metadata": {},
   "source": [
    "## Perguntas respondidas"
   ]
  },
  {
   "cell_type": "markdown",
   "metadata": {},
   "source": [
    "### 1. Quantos alunos existem (Quantidade de meninos e meninas)?"
   ]
  },
  {
   "cell_type": "code",
   "execution_count": 10,
   "metadata": {},
   "outputs": [
    {
     "name": "stdout",
     "output_type": "stream",
     "text": [
      "Existem 2000 estudantes:\n",
      "998 estudantes do genero masculino.\n",
      "1002 estudantes do genero feminino.\n"
     ]
    }
   ],
   "source": [
    "# A coluna id pode ser usada para contar a quantidade total dos estudantes\n",
    "num_students_unique = data_students['id'].nunique()\n",
    "# Quantidade de numeros dos estudantes masculinos e femininos\n",
    "male = data_students.loc[data_students['gender'] == 'male', :]\n",
    "num_male = len(male)\n",
    "female = data_students.loc[data_students['gender'] == 'female', :]\n",
    "num_female = len(female)\n",
    "# Resultado numero de estudantes no total\n",
    "print(f'Existem {num_students_unique} estudantes:')\n",
    "\n",
    "print(f'{num_male} estudantes do genero masculino.')\n",
    "print(f'{num_female} estudantes do genero feminino.')"
   ]
  },
  {
   "cell_type": "markdown",
   "metadata": {},
   "source": [
    "### 2. Quais os atributos dos alunos?"
   ]
  },
  {
   "cell_type": "code",
   "execution_count": 51,
   "metadata": {},
   "outputs": [
    {
     "name": "stdout",
     "output_type": "stream",
     "text": [
      "['first_name', 'last_name', 'email', 'gender', 'part_time_job', 'absence_days', 'extracurricular_activities', 'weekly_self_study_hours', 'career_aspiration', 'math_score', 'history_score', 'physics_score', 'chemistry_score', 'biology_score', 'english_score', 'geography_score']\n"
     ]
    }
   ],
   "source": [
    "# Atributos dos alunos excluindo a coluna de id\n",
    "student_atributes = data_students.drop( ['id'], axis=1 )\n",
    "print( student_atributes.columns.tolist() )"
   ]
  },
  {
   "cell_type": "markdown",
   "metadata": {},
   "source": [
    "### 3. Qual o estudante com a maior média de nota?"
   ]
  },
  {
   "cell_type": "code",
   "execution_count": 21,
   "metadata": {},
   "outputs": [
    {
     "name": "stdout",
     "output_type": "stream",
     "text": [
      "O Estudante com maior média é: Lisa Mitchell (ID: 797) com média 96.14\n"
     ]
    }
   ],
   "source": [
    "# Lista das colunas de nota\n",
    "score_columns = ['math_score', 'history_score', 'physics_score', 'chemistry_score', 'biology_score', 'english_score', 'geography_score']\n",
    "\n",
    "# Calcula a média das notas\n",
    "data_students['average_score'] = data_students[score_columns].mean(axis=1)\n",
    "\n",
    "# Encontra o aluno com a maior média\n",
    "top_student = data_students.sort_values('average_score', ascending=False).iloc[0]\n",
    "\n",
    "# Combina o nome completo\n",
    "full_name = f\"{top_student['first_name']} {top_student['last_name']}\"\n",
    "\n",
    "# Exibe o nome completo, ID e média\n",
    "print('O Estudante com maior média é: {} (ID: {}) com média {:.2f}'.format(\n",
    "    full_name, top_student['id'], top_student['average_score']\n",
    "))"
   ]
  },
  {
   "cell_type": "markdown",
   "metadata": {},
   "source": [
    "### 4. Quantos estudantes tem um trabalho de meio período?"
   ]
  },
  {
   "cell_type": "code",
   "execution_count": 50,
   "metadata": {},
   "outputs": [
    {
     "name": "stdout",
     "output_type": "stream",
     "text": [
      "316 estudantes tem um trabalho de meio período\n"
     ]
    }
   ],
   "source": [
    "students_job = data_students.loc[data_students['part_time_job'] == True]\n",
    "num_student_job = len(students_job)\n",
    "print(f'{num_student_job} estudantes tem um trabalho de meio período')"
   ]
  },
  {
   "cell_type": "markdown",
   "metadata": {},
   "source": [
    "### 5. Qual aluno/aluna que mais faltou?\n"
   ]
  },
  {
   "cell_type": "code",
   "execution_count": 49,
   "metadata": {},
   "outputs": [
    {
     "name": "stdout",
     "output_type": "stream",
     "text": [
      "Estudantes com mais faltas (10 faltas):\n",
      "- Pamela Jackson (ID: 14)\n",
      "- Raymond Shea (ID: 70)\n",
      "- Louis Edwards (ID: 73)\n",
      "- Stephen Rodriguez (ID: 152)\n",
      "- Amanda Murphy (ID: 175)\n",
      "- Anthony Martinez (ID: 274)\n",
      "- Heather Faulkner (ID: 302)\n",
      "- Gina Powell (ID: 305)\n",
      "- David Rice (ID: 346)\n",
      "- Francis Nelson (ID: 366)\n",
      "- William Ballard (ID: 374)\n",
      "- Brenda Mooney (ID: 488)\n",
      "- Angela Allen (ID: 489)\n",
      "- Thomas Clark (ID: 535)\n",
      "- Holly Sexton (ID: 547)\n",
      "- Paul Shaffer (ID: 552)\n",
      "- John Pacheco (ID: 565)\n",
      "- Sherry Brown (ID: 566)\n",
      "- Eric Patton (ID: 594)\n",
      "- Joshua Kelly (ID: 617)\n",
      "- Maria Campos (ID: 639)\n",
      "- Samuel Anderson (ID: 662)\n",
      "- Michelle Martinez (ID: 673)\n",
      "- Ross Esparza (ID: 693)\n",
      "- James Carter (ID: 710)\n",
      "- Leah Brown (ID: 714)\n",
      "- Jose Jackson (ID: 732)\n",
      "- Thomas Cruz (ID: 740)\n",
      "- Ashley Gutierrez (ID: 749)\n",
      "- Molly Jackson (ID: 809)\n",
      "- Brittany Collier (ID: 833)\n",
      "- Stephanie Bush (ID: 845)\n",
      "- Keith Tanner (ID: 846)\n",
      "- William Hernandez (ID: 854)\n",
      "- Cody Smith (ID: 875)\n",
      "- Sandra Davis (ID: 892)\n",
      "- Heidi Adams (ID: 915)\n",
      "- David Perez (ID: 925)\n",
      "- Maria Malone (ID: 941)\n",
      "- Connor Olson (ID: 958)\n",
      "- Brandon Smith (ID: 1001)\n",
      "- Nicole Williams (ID: 1002)\n",
      "- Rachel Frye (ID: 1003)\n",
      "- Jackson Smith (ID: 1015)\n",
      "- Michael Carr (ID: 1021)\n",
      "- Kenneth Mendez (ID: 1067)\n",
      "- John Wilson (ID: 1092)\n",
      "- John Klein (ID: 1104)\n",
      "- Samantha Phillips (ID: 1117)\n",
      "- David Hartman (ID: 1127)\n",
      "- Jennifer Beck (ID: 1214)\n",
      "- Dawn Flores (ID: 1239)\n",
      "- Susan Wall (ID: 1250)\n",
      "- Shawn Cameron (ID: 1275)\n",
      "- Maureen Norman (ID: 1323)\n",
      "- Christina Martinez (ID: 1325)\n",
      "- Anthony Shah (ID: 1330)\n",
      "- Rachel Williams (ID: 1349)\n",
      "- Sean Malone (ID: 1350)\n",
      "- Lauren Arias (ID: 1357)\n",
      "- Stephanie Jordan (ID: 1364)\n",
      "- James Tate (ID: 1373)\n",
      "- Connor Mitchell (ID: 1405)\n",
      "- Christina Ramirez (ID: 1415)\n",
      "- Jonathan Mckay (ID: 1450)\n",
      "- Joshua Williams (ID: 1477)\n",
      "- Jessica Nolan (ID: 1480)\n",
      "- Lisa Franco (ID: 1502)\n",
      "- John Powell (ID: 1522)\n",
      "- Kayla Bailey (ID: 1528)\n",
      "- Brian Garcia (ID: 1536)\n",
      "- Carlos Long (ID: 1556)\n",
      "- Cynthia Weeks (ID: 1599)\n",
      "- Eric Matthews (ID: 1604)\n",
      "- Tamara Bennett (ID: 1605)\n",
      "- Julie Floyd (ID: 1691)\n",
      "- Brenda Morales (ID: 1712)\n",
      "- Kimberly Shaw (ID: 1722)\n",
      "- James Hernandez (ID: 1765)\n",
      "- Bryan Dorsey (ID: 1777)\n",
      "- Luis Little (ID: 1824)\n",
      "- Cynthia Hodges (ID: 1840)\n",
      "- Kimberly Haley (ID: 1854)\n",
      "- Catherine Coffey (ID: 1888)\n",
      "- Bethany Thomas (ID: 1913)\n",
      "- Dennis Richardson (ID: 1959)\n",
      "- Kristin Garcia (ID: 1978)\n",
      "- Brittany Compton (ID: 1999)\n"
     ]
    }
   ],
   "source": [
    "# Descobre o número máximo de faltas\n",
    "max_absences = data_students['absence_days'].max()\n",
    "\n",
    "# Filtra todos os alunos com esse número de faltas\n",
    "top_absent_students = data_students[data_students['absence_days'] == max_absences]\n",
    "\n",
    "# Exibe todos os estudantes com mais faltas\n",
    "print(f\"Estudantes com mais faltas ({max_absences} faltas):\")\n",
    "for _, row in top_absent_students.iterrows():\n",
    "    full_name = f\"{row['first_name']} {row['last_name']}\"\n",
    "    print(f\"- {full_name} (ID: {row['id']})\")\n"
   ]
  },
  {
   "cell_type": "markdown",
   "metadata": {},
   "source": [
    "### 6. Qual aluno/aluna que estuda por mais horas durante semana?"
   ]
  },
  {
   "cell_type": "code",
   "execution_count": 13,
   "metadata": {},
   "outputs": [
    {
     "name": "stdout",
     "output_type": "stream",
     "text": [
      "Estudantes com mais horas de estudo por semana (50 horas):\n",
      "- Michael Heath (ID: 735)\n",
      "- Christopher Meyer (ID: 1624)\n"
     ]
    }
   ],
   "source": [
    "# Descobre o número máximo de faltas\n",
    "max_hours = data_students['weekly_self_study_hours'].max()\n",
    "\n",
    "# Filtra todos os alunos com esse número de faltas\n",
    "top_weekly_hours_students = data_students[data_students['weekly_self_study_hours'] == max_hours]\n",
    "\n",
    "# Exibe todos os estudantes com mais faltas\n",
    "print(f\"Estudantes com mais horas de estudo por semana ({max_hours} horas):\")\n",
    "for _, row in top_weekly_hours_students.iterrows():\n",
    "    full_name = f\"{row['first_name']} {row['last_name']}\"\n",
    "    print(f\"- {full_name} (ID: {row['id']})\")\n"
   ]
  },
  {
   "cell_type": "markdown",
   "metadata": {},
   "source": [
    "### 7. Qual é a carreira que os alunos mais querem seguir?"
   ]
  },
  {
   "cell_type": "code",
   "execution_count": 27,
   "metadata": {},
   "outputs": [
    {
     "name": "stdout",
     "output_type": "stream",
     "text": [
      "Carreira mais desejada: Software Engineer (315 alunos):\n"
     ]
    }
   ],
   "source": [
    "most_common_career = data_students['career_aspiration'].mode().iloc[0]\n",
    "students_with_top_career = data_students[data_students['career_aspiration'] == most_common_career]\n",
    "\n",
    "print(f\"Carreira mais desejada: {most_common_career} ({len(students_with_top_career)} alunos):\")\n"
   ]
  },
  {
   "cell_type": "markdown",
   "metadata": {},
   "source": [
    "### 8. Qual é a média de nota para alunos que participam de pelo menos uma atividade extracuricular?\n"
   ]
  },
  {
   "cell_type": "code",
   "execution_count": 22,
   "metadata": {},
   "outputs": [
    {
     "name": "stdout",
     "output_type": "stream",
     "text": [
      "A média de notas para alunos que participam de pelo menos uma atividade extracurricular é: 80.60\n"
     ]
    }
   ],
   "source": [
    "# Filtra os alunos que participam de pelo menos uma atividade extracurricular (valor True)\n",
    "students_with_activities = data_students[data_students['extracurricular_activities'] == True]\n",
    "\n",
    "# Calcula a média das notas desses alunos\n",
    "avg_score_with_activities = students_with_activities['average_score'].mean()\n",
    "\n",
    "# Exibe o resultado\n",
    "print(\"A média de notas para alunos que participam de pelo menos uma atividade extracurricular é: {:.2f}\".format(\n",
    "    avg_score_with_activities))\n"
   ]
  },
  {
   "cell_type": "markdown",
   "metadata": {},
   "source": [
    "### 9. Qual é a média de nota para alunos que trabalham e participam de pelo menos uma atividade extracuricular?\n"
   ]
  },
  {
   "cell_type": "code",
   "execution_count": 23,
   "metadata": {},
   "outputs": [
    {
     "name": "stdout",
     "output_type": "stream",
     "text": [
      "A média de notas para alunos que trabalham e participam de pelo menos uma atividade extracurricular é: 77.80\n"
     ]
    }
   ],
   "source": [
    "# Filtra os alunos que trabalham e participam de atividades extracurriculares\n",
    "working_and_activities = data_students[\n",
    "    (data_students['part_time_job'] == True) &\n",
    "    (data_students['extracurricular_activities'] == True)\n",
    "]\n",
    "\n",
    "# Calcula a média das notas desse grupo\n",
    "avg_score_working_activities = working_and_activities['average_score'].mean()\n",
    "\n",
    "# Exibe o resultado\n",
    "print(\"A média de notas para alunos que trabalham e participam de pelo menos uma atividade extracurricular é: {:.2f}\".format(\n",
    "    avg_score_working_activities))\n"
   ]
  },
  {
   "cell_type": "markdown",
   "metadata": {},
   "source": [
    "### 10. Qual a média da nota dos alunos que estudam mais de 10 horas por dia?\n"
   ]
  },
  {
   "cell_type": "code",
   "execution_count": 25,
   "metadata": {},
   "outputs": [
    {
     "name": "stdout",
     "output_type": "stream",
     "text": [
      "A média de notas para alunos que estudam mais de 10 horas por semana é: 82.68\n"
     ]
    }
   ],
   "source": [
    "# Filtra os alunos que estudam mais de 10 horas por semana\n",
    "students_study_10h_plus = data_students[data_students['weekly_self_study_hours'] > 10]\n",
    "\n",
    "# Calcula a média das notas desses alunos\n",
    "avg_score_study_10h_plus = students_study_10h_plus['average_score'].mean()\n",
    "\n",
    "# Exibe o resultado\n",
    "print(\"A média de notas para alunos que estudam mais de 10 horas por semana é: {:.2f}\".format(\n",
    "    avg_score_study_10h_plus))\n"
   ]
  }
 ],
 "metadata": {
  "kernelspec": {
   "display_name": "Python 3",
   "language": "python",
   "name": "python3"
  },
  "language_info": {
   "codemirror_mode": {
    "name": "ipython",
    "version": 3
   },
   "file_extension": ".py",
   "mimetype": "text/x-python",
   "name": "python",
   "nbconvert_exporter": "python",
   "pygments_lexer": "ipython3",
   "version": "3.13.1"
  }
 },
 "nbformat": 4,
 "nbformat_minor": 2
}
